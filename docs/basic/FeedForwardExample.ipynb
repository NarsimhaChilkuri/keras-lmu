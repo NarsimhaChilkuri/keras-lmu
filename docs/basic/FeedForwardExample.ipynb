{
 "cells": [
  {
   "cell_type": "code",
   "execution_count": 1,
   "metadata": {},
   "outputs": [],
   "source": [
    "from lmu import LMUModelFeedforward\n",
    "from tensorflow.keras.layers import RNN, Dense, Dropout\n",
    "from tensorflow.keras import Sequential\n",
    "import tensorflow as tf\n",
    "import numpy as np\n",
    "import time\n",
    "import os\n",
    "os.environ[\"CUDA_VISIBLE_DEVICES\"] = \"-1\""
   ]
  },
  {
   "cell_type": "code",
   "execution_count": 2,
   "metadata": {},
   "outputs": [
    {
     "name": "stdout",
     "output_type": "stream",
     "text": [
      "Model: \"LMU_Preprocess\"\n",
      "_________________________________________________________________\n",
      "Layer (type)                 Output Shape              Param #   \n",
      "=================================================================\n",
      "dense (Dense)                (None, 784, 1)            2         \n",
      "_________________________________________________________________\n",
      "rnn (RNN)                    (None, 100)               10100     \n",
      "=================================================================\n",
      "Total params: 10,102\n",
      "Trainable params: 0\n",
      "Non-trainable params: 10,102\n",
      "_________________________________________________________________\n",
      "Model: \"LMU_Output\"\n",
      "_________________________________________________________________\n",
      "Layer (type)                 Output Shape              Param #   \n",
      "=================================================================\n",
      "dense_1 (Dense)              (None, 50)                5100      \n",
      "=================================================================\n",
      "Total params: 5,100\n",
      "Trainable params: 5,100\n",
      "Non-trainable params: 0\n",
      "_________________________________________________________________\n"
     ]
    }
   ],
   "source": [
    "model = LMUModelFeedforward(units=50, order=100, theta=5, input_shape=(784, 1))\n",
    "model.summary()"
   ]
  },
  {
   "cell_type": "code",
   "execution_count": 3,
   "metadata": {},
   "outputs": [],
   "source": [
    "tf.random.set_seed(0)\n",
    "\n",
    "(\n",
    "    (train_images, train_labels),\n",
    "    (test_images, test_labels),\n",
    ") = tf.keras.datasets.mnist.load_data()\n",
    "\n",
    "\n",
    "def normalize(x):\n",
    "    return (x - np.mean(x)) / np.std(x)\n",
    "\n",
    "\n",
    "train_images = normalize(train_images)\n",
    "test_images = normalize(test_images)\n",
    "\n",
    "train_images = train_images.reshape((train_images.shape[0], -1, 1))\n",
    "test_images = test_images.reshape((test_images.shape[0], -1, 1))\n",
    "\n",
    "# apply permutation\n",
    "rng = np.random.RandomState(0)\n",
    "perm = rng.permutation(train_images.shape[1])\n",
    "train_images = train_images[:, perm]\n",
    "test_images = test_images[:, perm]\n",
    "\n",
    "index = np.random.choice(train_images.shape[0], 1000, replace=False)"
   ]
  },
  {
   "cell_type": "code",
   "execution_count": 4,
   "metadata": {},
   "outputs": [
    {
     "name": "stdout",
     "output_type": "stream",
     "text": [
      "Model: \"LMU_Preprocess\"\n",
      "_________________________________________________________________\n",
      "Layer (type)                 Output Shape              Param #   \n",
      "=================================================================\n",
      "dense (Dense)                (None, 784, 1)            2         \n",
      "_________________________________________________________________\n",
      "rnn (RNN)                    (None, 100)               10100     \n",
      "=================================================================\n",
      "Total params: 10,102\n",
      "Trainable params: 0\n",
      "Non-trainable params: 10,102\n",
      "_________________________________________________________________\n",
      "Model: \"LMU_Output\"\n",
      "_________________________________________________________________\n",
      "Layer (type)                 Output Shape              Param #   \n",
      "=================================================================\n",
      "dense_1 (Dense)              (None, 50)                5100      \n",
      "_________________________________________________________________\n",
      "dropout (Dropout)            (None, 50)                0         \n",
      "_________________________________________________________________\n",
      "dense_2 (Dense)              (None, 10)                510       \n",
      "=================================================================\n",
      "Total params: 5,610\n",
      "Trainable params: 5,610\n",
      "Non-trainable params: 0\n",
      "_________________________________________________________________\n"
     ]
    }
   ],
   "source": [
    "model.add(Dropout(0.5))\n",
    "model.add(Dense(10, activation='softmax'))\n",
    "model.summary()\n",
    "model.compile(optimizer='adam', loss='sparse_categorical_crossentropy', metrics=['sparse_categorical_accuracy'])"
   ]
  },
  {
   "cell_type": "code",
   "execution_count": 5,
   "metadata": {},
   "outputs": [
    {
     "name": "stdout",
     "output_type": "stream",
     "text": [
      "Train on 1000 samples\n",
      "Epoch 1/10\n",
      "1000/1000 [==============================] - 0s 314us/sample - loss: 2.3572 - sparse_categorical_accuracy: 0.1240\n",
      "Epoch 2/10\n",
      "1000/1000 [==============================] - 0s 33us/sample - loss: 2.2439 - sparse_categorical_accuracy: 0.1650\n",
      "Epoch 3/10\n",
      "1000/1000 [==============================] - 0s 33us/sample - loss: 2.1926 - sparse_categorical_accuracy: 0.1610\n",
      "Epoch 4/10\n",
      "1000/1000 [==============================] - 0s 33us/sample - loss: 2.1721 - sparse_categorical_accuracy: 0.1830\n",
      "Epoch 5/10\n",
      "1000/1000 [==============================] - 0s 35us/sample - loss: 2.1542 - sparse_categorical_accuracy: 0.1840\n",
      "Epoch 6/10\n",
      "1000/1000 [==============================] - 0s 32us/sample - loss: 2.1533 - sparse_categorical_accuracy: 0.1730\n",
      "Epoch 7/10\n",
      "1000/1000 [==============================] - 0s 32us/sample - loss: 2.1386 - sparse_categorical_accuracy: 0.1740\n",
      "Epoch 8/10\n",
      "1000/1000 [==============================] - 0s 35us/sample - loss: 2.1323 - sparse_categorical_accuracy: 0.1910\n",
      "Epoch 9/10\n",
      "1000/1000 [==============================] - 0s 33us/sample - loss: 2.1229 - sparse_categorical_accuracy: 0.1950\n",
      "Epoch 10/10\n",
      "1000/1000 [==============================] - 0s 32us/sample - loss: 2.1427 - sparse_categorical_accuracy: 0.1820\n"
     ]
    },
    {
     "data": {
      "text/plain": [
       "<tensorflow.python.keras.callbacks.History at 0x26e0661d388>"
      ]
     },
     "execution_count": 5,
     "metadata": {},
     "output_type": "execute_result"
    }
   ],
   "source": [
    "model.fit(train_images[index], train_labels[index], epochs=10)"
   ]
  },
  {
   "cell_type": "code",
   "execution_count": null,
   "metadata": {},
   "outputs": [],
   "source": []
  }
 ],
 "metadata": {
  "kernelspec": {
   "display_name": "Python 3",
   "language": "python",
   "name": "python3"
  },
  "language_info": {
   "codemirror_mode": {
    "name": "ipython",
    "version": 3
   },
   "file_extension": ".py",
   "mimetype": "text/x-python",
   "name": "python",
   "nbconvert_exporter": "python",
   "pygments_lexer": "ipython3",
   "version": "3.7.7"
  }
 },
 "nbformat": 4,
 "nbformat_minor": 4
}
