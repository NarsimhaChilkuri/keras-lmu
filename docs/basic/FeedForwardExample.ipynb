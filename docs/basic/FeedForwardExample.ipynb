{
 "cells": [
  {
   "cell_type": "code",
   "execution_count": 1,
   "metadata": {},
   "outputs": [],
   "source": [
    "from lmu import FeedForwardCell\n",
    "from tensorflow.keras.layers import RNN, Dense, Dropout\n",
    "from tensorflow.keras import Sequential\n",
    "import tensorflow as tf\n",
    "import numpy as np\n",
    "import time\n",
    "import os\n",
    "os.environ[\"CUDA_VISIBLE_DEVICES\"] = \"-1\""
   ]
  },
  {
   "cell_type": "code",
   "execution_count": 3,
   "metadata": {},
   "outputs": [
    {
     "name": "stdout",
     "output_type": "stream",
     "text": [
      "Model: \"sequential_1\"\n",
      "_________________________________________________________________\n",
      "Layer (type)                 Output Shape              Param #   \n",
      "=================================================================\n",
      "rnn_1 (RNN)                  (None, 100)               30401     \n",
      "=================================================================\n",
      "Total params: 30,401\n",
      "Trainable params: 0\n",
      "Non-trainable params: 30,401\n",
      "_________________________________________________________________\n"
     ]
    }
   ],
   "source": [
    "FFCell = FeedForwardCell(100, 784)\n",
    "layer = RNN(FFCell, input_shape=(784, 1), return_sequences=False)\n",
    "\n",
    "model = Sequential()\n",
    "model.add(layer)\n",
    "model.summary()"
   ]
  },
  {
   "cell_type": "code",
   "execution_count": 4,
   "metadata": {},
   "outputs": [],
   "source": [
    "tf.random.set_seed(0)\n",
    "\n",
    "(\n",
    "    (train_images, train_labels),\n",
    "    (test_images, test_labels),\n",
    ") = tf.keras.datasets.mnist.load_data()\n",
    "\n",
    "\n",
    "def normalize(x):\n",
    "    return (x - np.mean(x)) / np.std(x)\n",
    "\n",
    "\n",
    "train_images = normalize(train_images)\n",
    "test_images = normalize(test_images)\n",
    "\n",
    "train_images = train_images.reshape((train_images.shape[0], -1, 1))\n",
    "test_images = test_images.reshape((test_images.shape[0], -1, 1))\n",
    "\n",
    "# apply permutation\n",
    "rng = np.random.RandomState(0)\n",
    "perm = rng.permutation(train_images.shape[1])\n",
    "train_images = train_images[:, perm]\n",
    "test_images = test_images[:, perm]\n",
    "\n",
    "index = np.random.choice(train_images.shape[0], 1000, replace=False)"
   ]
  },
  {
   "cell_type": "code",
   "execution_count": 5,
   "metadata": {},
   "outputs": [
    {
     "name": "stdout",
     "output_type": "stream",
     "text": [
      "1.900804042816162\n"
     ]
    }
   ],
   "source": [
    "start = time.time()\n",
    "m_train = model.predict(train_images[index])\n",
    "end = time.time()\n",
    "print(end-start)"
   ]
  },
  {
   "cell_type": "code",
   "execution_count": 6,
   "metadata": {},
   "outputs": [
    {
     "name": "stdout",
     "output_type": "stream",
     "text": [
      "Model: \"sequential_2\"\n",
      "_________________________________________________________________\n",
      "Layer (type)                 Output Shape              Param #   \n",
      "=================================================================\n",
      "dense (Dense)                (None, 50)                5050      \n",
      "_________________________________________________________________\n",
      "dropout (Dropout)            (None, 50)                0         \n",
      "_________________________________________________________________\n",
      "dense_1 (Dense)              (None, 10)                510       \n",
      "=================================================================\n",
      "Total params: 5,560\n",
      "Trainable params: 5,560\n",
      "Non-trainable params: 0\n",
      "_________________________________________________________________\n"
     ]
    }
   ],
   "source": [
    "model_ff = Sequential()\n",
    "model_ff.add(Dense(50, input_shape=(100,), activation='tanh'))\n",
    "model_ff.add(Dropout(0.5))\n",
    "model_ff.add(Dense(10, activation='softmax'))\n",
    "model_ff.summary()\n",
    "model_ff.compile(optimizer='adam', loss='sparse_categorical_crossentropy', metrics=['sparse_categorical_accuracy'])"
   ]
  },
  {
   "cell_type": "code",
   "execution_count": 7,
   "metadata": {},
   "outputs": [
    {
     "name": "stdout",
     "output_type": "stream",
     "text": [
      "Train on 1000 samples\n",
      "Epoch 1/10\n",
      "1000/1000 [==============================] - 0s 262us/sample - loss: 2.1909 - sparse_categorical_accuracy: 0.2140\n",
      "Epoch 2/10\n",
      "1000/1000 [==============================] - 0s 35us/sample - loss: 1.8331 - sparse_categorical_accuracy: 0.3930\n",
      "Epoch 3/10\n",
      "1000/1000 [==============================] - 0s 37us/sample - loss: 1.5682 - sparse_categorical_accuracy: 0.5420\n",
      "Epoch 4/10\n",
      "1000/1000 [==============================] - 0s 34us/sample - loss: 1.3996 - sparse_categorical_accuracy: 0.5840\n",
      "Epoch 5/10\n",
      "1000/1000 [==============================] - 0s 33us/sample - loss: 1.2564 - sparse_categorical_accuracy: 0.6410\n",
      "Epoch 6/10\n",
      "1000/1000 [==============================] - 0s 33us/sample - loss: 1.1737 - sparse_categorical_accuracy: 0.6630\n",
      "Epoch 7/10\n",
      "1000/1000 [==============================] - 0s 33us/sample - loss: 1.0732 - sparse_categorical_accuracy: 0.6910\n",
      "Epoch 8/10\n",
      "1000/1000 [==============================] - 0s 34us/sample - loss: 1.0093 - sparse_categorical_accuracy: 0.7060\n",
      "Epoch 9/10\n",
      "1000/1000 [==============================] - 0s 33us/sample - loss: 0.9580 - sparse_categorical_accuracy: 0.7320\n",
      "Epoch 10/10\n",
      "1000/1000 [==============================] - 0s 35us/sample - loss: 0.9116 - sparse_categorical_accuracy: 0.7320\n"
     ]
    },
    {
     "data": {
      "text/plain": [
       "<tensorflow.python.keras.callbacks.History at 0x7f97a06fd810>"
      ]
     },
     "execution_count": 7,
     "metadata": {},
     "output_type": "execute_result"
    }
   ],
   "source": [
    "model_ff.fit(m_train, train_labels[index], epochs = 10)"
   ]
  },
  {
   "cell_type": "code",
   "execution_count": null,
   "metadata": {},
   "outputs": [],
   "source": []
  }
 ],
 "metadata": {
  "kernelspec": {
   "display_name": "Python 3",
   "language": "python",
   "name": "python3"
  },
  "language_info": {
   "codemirror_mode": {
    "name": "ipython",
    "version": 3
   },
   "file_extension": ".py",
   "mimetype": "text/x-python",
   "name": "python",
   "nbconvert_exporter": "python",
   "pygments_lexer": "ipython3",
   "version": "3.7.6"
  }
 },
 "nbformat": 4,
 "nbformat_minor": 4
}
